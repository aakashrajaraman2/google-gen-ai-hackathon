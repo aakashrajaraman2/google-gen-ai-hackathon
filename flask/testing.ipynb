{
 "cells": [
  {
   "cell_type": "code",
   "execution_count": 12,
   "metadata": {},
   "outputs": [],
   "source": [
    "import vertexai\n",
    "# from vertexai.generative_models import GenerativeModel\n",
    "from vertexai.generative_models import GenerativeModel, ChatSession, Part, Content\n",
    "import vertexai.preview.generative_models as generative_models"
   ]
  },
  {
   "cell_type": "code",
   "execution_count": 13,
   "metadata": {},
   "outputs": [
    {
     "data": {
      "text/plain": [
       "True"
      ]
     },
     "execution_count": 13,
     "metadata": {},
     "output_type": "execute_result"
    }
   ],
   "source": [
    "import os\n",
    "from dotenv import load_dotenv\n",
    "\n",
    "load_dotenv()\n"
   ]
  },
  {
   "cell_type": "code",
   "execution_count": 14,
   "metadata": {},
   "outputs": [],
   "source": [
    "import os\n",
    "vertexai.init(project=\"vision-forge-414908\", location=\"us-central1\")\n",
    "#os.environ['GOOGLE_API_KEY']=os.getenv(\"GOOGLE_API_KEY\")\n",
    "os.environ['GOOGLE_APPLICATION_CREDENTIALS']=\"cred.json\""
   ]
  },
  {
   "cell_type": "code",
   "execution_count": 15,
   "metadata": {},
   "outputs": [],
   "source": [
    "model = GenerativeModel(model_name=\"gemini-1.5-flash-001\",\n",
    "                             system_instruction=\"You have to have a conversation with the user about their insurance-related experience. This may be a hospitalization/car accident etc. Ask relevant questions, ask for necessary clarifications, etc. Once you are done with understanding their experience, the user will send you a list of necessary fields they require to fill out a form. You must return a json object with the values for these fields. Ensure that all your information is accurate, elaborate, and professional. This json object will be your final output.\",\n",
    "                            \n",
    "     )"
   ]
  },
  {
   "cell_type": "code",
   "execution_count": 16,
   "metadata": {},
   "outputs": [],
   "source": [
    "user_profile = {\n",
    "  \"patient_profile\": {\n",
    "    \"personal_details\": {\n",
    "      \"name\": \"Ranjit Sharma\",\n",
    "      \"date_of_birth\": \"1985-06-15\",\n",
    "      \"gender\": \"Male\",\n",
    "      \"marital_status\": \"Married\",\n",
    "      \"children\": 0,\n",
    "      \"spouse_name\": \"Anita Sharma\",\n",
    "      \"contact_details\": {\n",
    "        \"phone\": \"+91-9876543210\",\n",
    "        \"email\": \"ranjit.sharma@example.com\",\n",
    "        \"address\": {\n",
    "          \"street\": \"15, MG Road\",\n",
    "          \"city\": \"Bengaluru\",\n",
    "          \"state\": \"Karnataka\",\n",
    "          \"postal_code\": \"560001\",\n",
    "          \"country\": \"India\"\n",
    "        }\n",
    "      }\n",
    "    },\n",
    "    \"insurance_details\": {\n",
    "      \"policy_number\": \"HSI123456789\",\n",
    "      \"policy_provider\": \"SBI Health Insurance\",\n",
    "      \"policy_path\": \"../docs/SBI.pdf\",\n",
    "      \"policy_start_date\": \"2020-01-01\",\n",
    "      \"policy_end_date\": \"2025-01-01\",\n",
    "      \"coverage_amount\": 500000,\n",
    "      \"premium_amount\": 12000,\n",
    "      \"premium_frequency\": \"Yearly\"\n",
    "    },\n",
    "    \"medical_history\": {\n",
    "      \"pre_existing_conditions\": [],\n",
    "      \"allergies\": [],\n",
    "      \"current_medications\": [],\n",
    "      \"past_treatments\": []\n",
    "    },\n",
    "    \"emergency_contact\": {\n",
    "      \"name\": \"Anita Sharma\",\n",
    "      \"relationship\": \"Spouse\",\n",
    "      \"phone\": \"+91-9876543211\"\n",
    "    },\n",
    "    \"claim_history\": [\n",
    "      {\n",
    "        \"claim_id\": \"CLAIM98765\",\n",
    "        \"claim_date\": \"2023-04-15\",\n",
    "        \"hospital_name\": \"Apollo Hospital\",\n",
    "        \"treatment\": \"Fracture Treatment\",\n",
    "        \"claim_amount\": 50000,\n",
    "        \"status\": \"Approved\"\n",
    "      }\n",
    "    ]\n",
    "  }\n",
    "}"
   ]
  },
  {
   "cell_type": "code",
   "execution_count": 17,
   "metadata": {},
   "outputs": [],
   "source": [
    "chat_history = [\n",
    "    {\n",
    "        \"role\": \"user\",\n",
    "        \"text\": \"This is my user profile:\\n\"+ str(user_profile)\n",
    "    },\n",
    "    {\n",
    "        \"role\": \"model\",\n",
    "        \"text\": \"Okay, got it. Please ask your questions related to insurance.\"\n",
    "    },\n",
    "    \n",
    "]"
   ]
  },
  {
   "cell_type": "code",
   "execution_count": 18,
   "metadata": {},
   "outputs": [],
   "source": [
    "history = []\n",
    "for message in chat_history:\n",
    "    if message[\"role\"] == \"user\":\n",
    "        history.append(\n",
    "            Content(role=\"user\", parts=[Part.from_text(message[\"text\"])])\n",
    "        )\n",
    "    else:\n",
    "        history.append(\n",
    "            Content(role=\"model\", parts=[Part.from_text(f'{message[\"text\"]}')])\n",
    "        )"
   ]
  },
  {
   "cell_type": "code",
   "execution_count": 19,
   "metadata": {},
   "outputs": [],
   "source": [
    "chat = ChatSession(model=model, history=history)"
   ]
  },
  {
   "cell_type": "code",
   "execution_count": 24,
   "metadata": {},
   "outputs": [],
   "source": [
    "op = chat.send_message(\"She was admitted in an in network hospital called Manipal for 3 days from 28/3/2024 - 31/3/2024. She has diabetes. We had a total of 32 thousand rupees in doctor fees. \")"
   ]
  },
  {
   "cell_type": "code",
   "execution_count": 25,
   "metadata": {},
   "outputs": [
    {
     "data": {
      "text/plain": [
       "\"Thank you for providing that information. It's helpful to know about your wife's diabetes. It's likely that this is a pre-existing condition that will need to be considered when processing your claim.  \\n\\nTo give you a clear idea of your options, I'd need a bit more information. Could you please tell me:\\n\\n* **What type of insurance policy do you have?** Is it a health insurance policy, a hospitalization policy, or something else?\\n* **Does your policy specifically cover dengue?** \\n* **What is your policy's maximum coverage limit for a single hospitalization?** \\n\\nOnce I have this information, I can assess whether your claim is likely to be approved and what documentation you'll need to gather. \\n\""
      ]
     },
     "execution_count": 25,
     "metadata": {},
     "output_type": "execute_result"
    }
   ],
   "source": [
    "op.candidates[0].content.parts[0].text"
   ]
  },
  {
   "cell_type": "code",
   "execution_count": 1,
   "metadata": {},
   "outputs": [
    {
     "name": "stderr",
     "output_type": "stream",
     "text": [
      "c:\\Users\\Aakash Rajaraman\\AppData\\Local\\Programs\\Python\\Python311\\Lib\\site-packages\\tqdm\\auto.py:21: TqdmWarning: IProgress not found. Please update jupyter and ipywidgets. See https://ipywidgets.readthedocs.io/en/stable/user_install.html\n",
      "  from .autonotebook import tqdm as notebook_tqdm\n"
     ]
    }
   ],
   "source": [
    "from langchain_huggingface import HuggingFaceEmbeddings\n",
    "from transformers import AutoModel\n",
    "model_name = \"jinaai/jina-embeddings-v2-base-en\"\n",
    "model_kwargs ={'trust_remote_code': True}\n"
   ]
  },
  {
   "cell_type": "code",
   "execution_count": 2,
   "metadata": {},
   "outputs": [],
   "source": [
    "embeddings_model = HuggingFaceEmbeddings(model_name=\"jinaai/jina-embeddings-v2-small-en\",model_kwargs=model_kwargs)\n"
   ]
  },
  {
   "cell_type": "code",
   "execution_count": 2,
   "metadata": {},
   "outputs": [],
   "source": [
    "from werkzeug.datastructures import ImmutableMultiDict"
   ]
  },
  {
   "cell_type": "code",
   "execution_count": 3,
   "metadata": {},
   "outputs": [],
   "source": [
    "x = ImmutableMultiDict([('policy_number', ''), ('policyholder_name', ''), ('dob', ''), ('contact_number', ''), ('email', ''), ('address', ''), ('claim_amount', ''), ('date_of_treatment', ''), ('hospital_name', ''), ('hospital_address', ''), ('diagnosis', ''), ('treatment_description', ''), ('doctor_name', ''), ('doctor_contact', ''), ('policy_start_date', ''), ('policy_end_date', ''), ('has_previous_claims', 'yes'), ('supporting_documents', '')])"
   ]
  },
  {
   "cell_type": "code",
   "execution_count": 6,
   "metadata": {},
   "outputs": [
    {
     "data": {
      "text/plain": [
       "dict_keys(['policy_number', 'policyholder_name', 'dob', 'contact_number', 'email', 'address', 'claim_amount', 'date_of_treatment', 'hospital_name', 'hospital_address', 'diagnosis', 'treatment_description', 'doctor_name', 'doctor_contact', 'policy_start_date', 'policy_end_date', 'has_previous_claims', 'supporting_documents'])"
      ]
     },
     "execution_count": 6,
     "metadata": {},
     "output_type": "execute_result"
    }
   ],
   "source": [
    "x.keys()"
   ]
  },
  {
   "cell_type": "code",
   "execution_count": 1,
   "metadata": {},
   "outputs": [
    {
     "name": "stderr",
     "output_type": "stream",
     "text": [
      "c:\\Users\\Aakash Rajaraman\\AppData\\Local\\Programs\\Python\\Python311\\Lib\\site-packages\\tqdm\\auto.py:21: TqdmWarning: IProgress not found. Please update jupyter and ipywidgets. See https://ipywidgets.readthedocs.io/en/stable/user_install.html\n",
      "  from .autonotebook import tqdm as notebook_tqdm\n"
     ]
    }
   ],
   "source": [
    "import os\n",
    "import google.generativeai as genai\n",
    "from google.generativeai import caching\n",
    "import datetime\n",
    "import time\n",
    "import dotenv\n",
    "from vertexai.generative_models import Part"
   ]
  },
  {
   "cell_type": "code",
   "execution_count": 2,
   "metadata": {},
   "outputs": [],
   "source": [
    "os.environ['GOOGLE_APPLICATION_CREDENTIALS']=\"cred.json\""
   ]
  },
  {
   "cell_type": "code",
   "execution_count": 9,
   "metadata": {},
   "outputs": [],
   "source": [
    "path = r\"../docs/health_form.pdf\""
   ]
  },
  {
   "cell_type": "code",
   "execution_count": 14,
   "metadata": {},
   "outputs": [],
   "source": [
    "import PyPDF2\n",
    "\n",
    "def extract_text_from_pdf(pdf_path):\n",
    "    with open(pdf_path, 'rb') as pdf_file:\n",
    "        pdf_reader = PyPDF2.PdfReader(pdf_file)\n",
    "        extracted_text = \"\"\n",
    "        for page in pdf_reader.pages:\n",
    "            text = page.extract_text()\n",
    "            if text:\n",
    "                print(\"t\", text)\n",
    "                extracted_text += text\n",
    "        return extracted_text\n"
   ]
  },
  {
   "cell_type": "code",
   "execution_count": 15,
   "metadata": {},
   "outputs": [
    {
     "name": "stdout",
     "output_type": "stream",
     "text": [
      "\n"
     ]
    }
   ],
   "source": [
    "print(extract_text_from_pdf(path))"
   ]
  },
  {
   "cell_type": "code",
   "execution_count": 3,
   "metadata": {},
   "outputs": [],
   "source": [
    "from langchain_community.document_loaders import PyPDFLoader\n",
    "from langchain.text_splitter import RecursiveCharacterTextSplitter\n"
   ]
  },
  {
   "cell_type": "code",
   "execution_count": 4,
   "metadata": {},
   "outputs": [],
   "source": [
    "paths =[\n",
    "    \"../docs/car insurance.pdf\",\n",
    "    \"../docs/united india health insurance.pdf\",\n",
    "    \"../docs/home insurance.pdf\",\n",
    "]"
   ]
  },
  {
   "cell_type": "code",
   "execution_count": 5,
   "metadata": {},
   "outputs": [],
   "source": [
    "docs = [PyPDFLoader(url).load() for url in paths]\n",
    "docs_list = [item for sublist in docs for item in sublist]"
   ]
  },
  {
   "cell_type": "code",
   "execution_count": 6,
   "metadata": {},
   "outputs": [],
   "source": [
    "\n",
    "text_splitter = RecursiveCharacterTextSplitter.from_tiktoken_encoder(\n",
    "    chunk_size=1000, chunk_overlap=50\n",
    ")\n",
    "doc_splits = text_splitter.split_documents(docs_list)"
   ]
  },
  {
   "cell_type": "code",
   "execution_count": 7,
   "metadata": {},
   "outputs": [
    {
     "name": "stdout",
     "output_type": "stream",
     "text": [
      "['id1', 'id2', 'id3', 'id4', 'id5', 'id6', 'id7', 'id8', 'id9', 'id10', 'id11', 'id12', 'id13', 'id14', 'id15', 'id16', 'id17', 'id18', 'id19', 'id20', 'id21', 'id22', 'id23', 'id24', 'id25', 'id26', 'id27', 'id28', 'id29', 'id30', 'id31', 'id32', 'id33', 'id34', 'id35', 'id36', 'id37', 'id38', 'id39', 'id40', 'id41', 'id42', 'id43', 'id44', 'id45', 'id46', 'id47', 'id48', 'id49', 'id50', 'id51', 'id52', 'id53', 'id54', 'id55', 'id56', 'id57', 'id58', 'id59', 'id60', 'id61', 'id62', 'id63', 'id64', 'id65', 'id66', 'id67', 'id68', 'id69', 'id70', 'id71', 'id72', 'id73', 'id74', 'id75', 'id76', 'id77', 'id78', 'id79', 'id80', 'id81', 'id82', 'id83', 'id84', 'id85', 'id86', 'id87', 'id88', 'id89', 'id90', 'id91', 'id92', 'id93', 'id94', 'id95', 'id96', 'id97', 'id98', 'id99', 'id100', 'id101', 'id102', 'id103', 'id104', 'id105', 'id106', 'id107', 'id108', 'id109', 'id110', 'id111', 'id112', 'id113', 'id114', 'id115', 'id116', 'id117', 'id118', 'id119', 'id120', 'id121', 'id122', 'id123', 'id124', 'id125', 'id126', 'id127', 'id128', 'id129', 'id130', 'id131', 'id132', 'id133', 'id134', 'id135']\n"
     ]
    }
   ],
   "source": [
    "ids = [\"id\"+str(i) for i in range(1,len(doc_splits)+1)]\n",
    "print(ids)"
   ]
  },
  {
   "cell_type": "code",
   "execution_count": 8,
   "metadata": {},
   "outputs": [],
   "source": [
    "final_doc_splits = [i.page_content for i in doc_splits]"
   ]
  },
  {
   "cell_type": "code",
   "execution_count": 9,
   "metadata": {},
   "outputs": [
    {
     "name": "stderr",
     "output_type": "stream",
     "text": [
      "c:\\Users\\Aakash Rajaraman\\AppData\\Local\\Programs\\Python\\Python311\\Lib\\site-packages\\onnxruntime\\capi\\_pybind_state.py:26: UserWarning: Please install the 2019 Visual C++ runtime and then try again. If you've installed the runtime in a non-standard location (other than %SystemRoot%\\System32), make sure it can be found by setting the correct path.\n",
      "  warnings.warn(\"Please install the 2019 Visual C++ runtime and then try again. \"\n"
     ]
    },
    {
     "ename": "",
     "evalue": "",
     "output_type": "error",
     "traceback": [
      "\u001b[1;31mThe Kernel crashed while executing code in the current cell or a previous cell. \n",
      "\u001b[1;31mPlease review the code in the cell(s) to identify a possible cause of the failure. \n",
      "\u001b[1;31mClick <a href='https://aka.ms/vscodeJupyterKernelCrash'>here</a> for more info. \n",
      "\u001b[1;31mView Jupyter <a href='command:jupyter.viewOutput'>log</a> for further details."
     ]
    }
   ],
   "source": [
    "import chromadb\n",
    "from langchain_chroma import Chroma\n",
    "persistent_client = chromadb.PersistentClient()\n",
    "collection = persistent_client.get_or_create_collection(\"collection_name\")\n",
    "collection.add(ids=ids, documents=final_doc_splits)\n",
    "\n",
    "vector_store_from_client = Chroma(\n",
    "    client=persistent_client,\n",
    "    collection_name=\"collection_name\",\n",
    "    embedding_function=embeddings_model,\n",
    ")"
   ]
  },
  {
   "cell_type": "code",
   "execution_count": 49,
   "metadata": {},
   "outputs": [
    {
     "data": {
      "text/plain": [
       "135"
      ]
     },
     "execution_count": 49,
     "metadata": {},
     "output_type": "execute_result"
    }
   ],
   "source": []
  },
  {
   "cell_type": "code",
   "execution_count": 48,
   "metadata": {},
   "outputs": [
    {
     "name": "stdout",
     "output_type": "stream",
     "text": [
      "no worries\n",
      "no worries\n",
      "no worries\n",
      "no worries\n",
      "no worries\n",
      "no worries\n",
      "no worries\n",
      "no worries\n",
      "no worries\n",
      "no worries\n",
      "no worries\n",
      "no worries\n",
      "no worries\n",
      "no worries\n",
      "no worries\n",
      "no worries\n",
      "no worries\n",
      "no worries\n",
      "no worries\n",
      "no worries\n",
      "no worries\n",
      "no worries\n",
      "no worries\n",
      "no worries\n",
      "no worries\n",
      "no worries\n",
      "no worries\n",
      "no worries\n",
      "no worries\n",
      "no worries\n",
      "no worries\n",
      "no worries\n",
      "no worries\n",
      "no worries\n",
      "no worries\n",
      "no worries\n",
      "no worries\n",
      "no worries\n",
      "no worries\n",
      "no worries\n",
      "no worries\n",
      "no worries\n",
      "no worries\n",
      "no worries\n",
      "no worries\n",
      "no worries\n",
      "no worries\n",
      "no worries\n",
      "no worries\n",
      "no worries\n",
      "no worries\n",
      "no worries\n",
      "no worries\n",
      "no worries\n",
      "no worries\n",
      "no worries\n",
      "no worries\n",
      "no worries\n",
      "no worries\n",
      "no worries\n",
      "no worries\n",
      "no worries\n",
      "no worries\n",
      "no worries\n",
      "no worries\n",
      "no worries\n",
      "no worries\n",
      "no worries\n",
      "no worries\n",
      "no worries\n",
      "no worries\n",
      "no worries\n",
      "no worries\n",
      "no worries\n",
      "no worries\n",
      "no worries\n",
      "no worries\n",
      "no worries\n",
      "no worries\n",
      "no worries\n",
      "no worries\n",
      "no worries\n",
      "no worries\n",
      "no worries\n",
      "no worries\n",
      "no worries\n",
      "no worries\n",
      "no worries\n",
      "no worries\n",
      "no worries\n",
      "no worries\n",
      "no worries\n",
      "no worries\n",
      "no worries\n",
      "no worries\n",
      "no worries\n",
      "no worries\n",
      "no worries\n",
      "no worries\n",
      "no worries\n",
      "no worries\n",
      "no worries\n",
      "no worries\n",
      "no worries\n",
      "no worries\n",
      "no worries\n",
      "no worries\n",
      "no worries\n",
      "no worries\n",
      "no worries\n",
      "no worries\n",
      "no worries\n",
      "no worries\n",
      "no worries\n",
      "no worries\n",
      "no worries\n",
      "no worries\n",
      "no worries\n",
      "no worries\n",
      "no worries\n",
      "no worries\n",
      "no worries\n",
      "no worries\n",
      "no worries\n",
      "no worries\n",
      "no worries\n",
      "no worries\n",
      "no worries\n",
      "no worries\n",
      "no worries\n",
      "no worries\n",
      "no worries\n",
      "no worries\n",
      "no worries\n",
      "no worries\n"
     ]
    }
   ],
   "source": [
    "for i in doc_splits:\n",
    "    \n",
    "    if type(i.page_content) == str:\n",
    "        print(\"no worries\")\n",
    "    else:\n",
    "        print(\"Not a string\")"
   ]
  },
  {
   "cell_type": "code",
   "execution_count": null,
   "metadata": {},
   "outputs": [],
   "source": []
  }
 ],
 "metadata": {
  "kernelspec": {
   "display_name": "Python 3",
   "language": "python",
   "name": "python3"
  },
  "language_info": {
   "codemirror_mode": {
    "name": "ipython",
    "version": 3
   },
   "file_extension": ".py",
   "mimetype": "text/x-python",
   "name": "python",
   "nbconvert_exporter": "python",
   "pygments_lexer": "ipython3",
   "version": "3.11.9"
  }
 },
 "nbformat": 4,
 "nbformat_minor": 2
}
