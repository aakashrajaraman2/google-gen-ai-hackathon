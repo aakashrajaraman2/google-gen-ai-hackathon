{
 "cells": [
  {
   "cell_type": "code",
   "execution_count": 12,
   "metadata": {},
   "outputs": [],
   "source": [
    "import vertexai\n",
    "# from vertexai.generative_models import GenerativeModel\n",
    "from vertexai.generative_models import GenerativeModel, ChatSession, Part, Content\n",
    "import vertexai.preview.generative_models as generative_models"
   ]
  },
  {
   "cell_type": "code",
   "execution_count": 13,
   "metadata": {},
   "outputs": [
    {
     "data": {
      "text/plain": [
       "True"
      ]
     },
     "execution_count": 13,
     "metadata": {},
     "output_type": "execute_result"
    }
   ],
   "source": [
    "import os\n",
    "from dotenv import load_dotenv\n",
    "\n",
    "load_dotenv()\n"
   ]
  },
  {
   "cell_type": "code",
   "execution_count": 14,
   "metadata": {},
   "outputs": [],
   "source": [
    "import os\n",
    "vertexai.init(project=\"vision-forge-414908\", location=\"us-central1\")\n",
    "os.environ['GOOGLE_API_KEY']=os.getenv(\"GOOGLE_API_KEY\")\n",
    "os.environ['GOOGLE_APPLICATION_CREDENTIALS']=\"cred.json\""
   ]
  },
  {
   "cell_type": "code",
   "execution_count": 15,
   "metadata": {},
   "outputs": [],
   "source": [
    "model = GenerativeModel(model_name=\"gemini-1.5-flash-001\",\n",
    "                             system_instruction=\"You have to have a conversation with the user about their insurance-related experience. This may be a hospitalization/car accident etc. Ask relevant questions, ask for necessary clarifications, etc. Once you are done with understanding their experience, the user will send you a list of necessary fields they require to fill out a form. You must return a json object with the values for these fields. Ensure that all your information is accurate, elaborate, and professional. This json object will be your final output.\",\n",
    "                            \n",
    "     )"
   ]
  },
  {
   "cell_type": "code",
   "execution_count": 16,
   "metadata": {},
   "outputs": [],
   "source": [
    "user_profile = {\n",
    "  \"patient_profile\": {\n",
    "    \"personal_details\": {\n",
    "      \"name\": \"Ranjit Sharma\",\n",
    "      \"date_of_birth\": \"1985-06-15\",\n",
    "      \"gender\": \"Male\",\n",
    "      \"marital_status\": \"Married\",\n",
    "      \"children\": 0,\n",
    "      \"spouse_name\": \"Anita Sharma\",\n",
    "      \"contact_details\": {\n",
    "        \"phone\": \"+91-9876543210\",\n",
    "        \"email\": \"ranjit.sharma@example.com\",\n",
    "        \"address\": {\n",
    "          \"street\": \"15, MG Road\",\n",
    "          \"city\": \"Bengaluru\",\n",
    "          \"state\": \"Karnataka\",\n",
    "          \"postal_code\": \"560001\",\n",
    "          \"country\": \"India\"\n",
    "        }\n",
    "      }\n",
    "    },\n",
    "    \"insurance_details\": {\n",
    "      \"policy_number\": \"HSI123456789\",\n",
    "      \"policy_provider\": \"SBI Health Insurance\",\n",
    "      \"policy_path\": \"../docs/SBI.pdf\",\n",
    "      \"policy_start_date\": \"2020-01-01\",\n",
    "      \"policy_end_date\": \"2025-01-01\",\n",
    "      \"coverage_amount\": 500000,\n",
    "      \"premium_amount\": 12000,\n",
    "      \"premium_frequency\": \"Yearly\"\n",
    "    },\n",
    "    \"medical_history\": {\n",
    "      \"pre_existing_conditions\": [],\n",
    "      \"allergies\": [],\n",
    "      \"current_medications\": [],\n",
    "      \"past_treatments\": []\n",
    "    },\n",
    "    \"emergency_contact\": {\n",
    "      \"name\": \"Anita Sharma\",\n",
    "      \"relationship\": \"Spouse\",\n",
    "      \"phone\": \"+91-9876543211\"\n",
    "    },\n",
    "    \"claim_history\": [\n",
    "      {\n",
    "        \"claim_id\": \"CLAIM98765\",\n",
    "        \"claim_date\": \"2023-04-15\",\n",
    "        \"hospital_name\": \"Apollo Hospital\",\n",
    "        \"treatment\": \"Fracture Treatment\",\n",
    "        \"claim_amount\": 50000,\n",
    "        \"status\": \"Approved\"\n",
    "      }\n",
    "    ]\n",
    "  }\n",
    "}"
   ]
  },
  {
   "cell_type": "code",
   "execution_count": 17,
   "metadata": {},
   "outputs": [],
   "source": [
    "chat_history = [\n",
    "    {\n",
    "        \"role\": \"user\",\n",
    "        \"text\": \"This is my user profile:\\n\"+ str(user_profile)\n",
    "    },\n",
    "    {\n",
    "        \"role\": \"model\",\n",
    "        \"text\": \"Okay, got it. Please ask your questions related to insurance.\"\n",
    "    },\n",
    "    \n",
    "]"
   ]
  },
  {
   "cell_type": "code",
   "execution_count": 18,
   "metadata": {},
   "outputs": [],
   "source": [
    "history = []\n",
    "for message in chat_history:\n",
    "    if message[\"role\"] == \"user\":\n",
    "        history.append(\n",
    "            Content(role=\"user\", parts=[Part.from_text(message[\"text\"])])\n",
    "        )\n",
    "    else:\n",
    "        history.append(\n",
    "            Content(role=\"model\", parts=[Part.from_text(f'{message[\"text\"]}')])\n",
    "        )"
   ]
  },
  {
   "cell_type": "code",
   "execution_count": 19,
   "metadata": {},
   "outputs": [],
   "source": [
    "chat = ChatSession(model=model, history=history)"
   ]
  },
  {
   "cell_type": "code",
   "execution_count": 24,
   "metadata": {},
   "outputs": [],
   "source": [
    "op = chat.send_message(\"She was admitted in an in network hospital called Manipal for 3 days from 28/3/2024 - 31/3/2024. She has diabetes. We had a total of 32 thousand rupees in doctor fees. \")"
   ]
  },
  {
   "cell_type": "code",
   "execution_count": 25,
   "metadata": {},
   "outputs": [
    {
     "data": {
      "text/plain": [
       "\"Thank you for providing that information. It's helpful to know about your wife's diabetes. It's likely that this is a pre-existing condition that will need to be considered when processing your claim.  \\n\\nTo give you a clear idea of your options, I'd need a bit more information. Could you please tell me:\\n\\n* **What type of insurance policy do you have?** Is it a health insurance policy, a hospitalization policy, or something else?\\n* **Does your policy specifically cover dengue?** \\n* **What is your policy's maximum coverage limit for a single hospitalization?** \\n\\nOnce I have this information, I can assess whether your claim is likely to be approved and what documentation you'll need to gather. \\n\""
      ]
     },
     "execution_count": 25,
     "metadata": {},
     "output_type": "execute_result"
    }
   ],
   "source": [
    "op.candidates[0].content.parts[0].text"
   ]
  },
  {
   "cell_type": "code",
   "execution_count": 37,
   "metadata": {},
   "outputs": [],
   "source": [
    "from langchain_huggingface import HuggingFaceEmbeddings\n",
    "from transformers import AutoModel\n",
    "model_name = \"jinaai/jina-embeddings-v2-base-en\"\n",
    "model_kwargs ={'trust_remote_code': True}\n"
   ]
  },
  {
   "cell_type": "code",
   "execution_count": 39,
   "metadata": {},
   "outputs": [],
   "source": [
    "embeddings_model = HuggingFaceEmbeddings(model_name=\"jinaai/jina-embeddings-v2-small-en\",model_kwargs=model_kwargs)\n"
   ]
  },
  {
   "cell_type": "code",
   "execution_count": null,
   "metadata": {},
   "outputs": [],
   "source": []
  }
 ],
 "metadata": {
  "kernelspec": {
   "display_name": "Python 3",
   "language": "python",
   "name": "python3"
  },
  "language_info": {
   "codemirror_mode": {
    "name": "ipython",
    "version": 3
   },
   "file_extension": ".py",
   "mimetype": "text/x-python",
   "name": "python",
   "nbconvert_exporter": "python",
   "pygments_lexer": "ipython3",
   "version": "3.11.9"
  }
 },
 "nbformat": 4,
 "nbformat_minor": 2
}
