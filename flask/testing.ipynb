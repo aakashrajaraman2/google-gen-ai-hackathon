{
 "cells": [
  {
   "cell_type": "code",
   "execution_count": 1,
   "metadata": {},
   "outputs": [],
   "source": [
    "import vertexai\n",
    "# from vertexai.generative_models import GenerativeModel\n",
    "from vertexai.generative_models import GenerativeModel, ChatSession, Part, Content\n",
    "import vertexai.preview.generative_models as generative_models"
   ]
  },
  {
   "cell_type": "code",
   "execution_count": 2,
   "metadata": {},
   "outputs": [
    {
     "name": "stderr",
     "output_type": "stream",
     "text": [
      "c:\\Users\\Aakash Rajaraman\\AppData\\Local\\Programs\\Python\\Python311\\Lib\\site-packages\\tqdm\\auto.py:21: TqdmWarning: IProgress not found. Please update jupyter and ipywidgets. See https://ipywidgets.readthedocs.io/en/stable/user_install.html\n",
      "  from .autonotebook import tqdm as notebook_tqdm\n"
     ]
    },
    {
     "data": {
      "text/plain": [
       "True"
      ]
     },
     "execution_count": 2,
     "metadata": {},
     "output_type": "execute_result"
    }
   ],
   "source": [
    "import os\n",
    "from dotenv import load_dotenv\n",
    "from langchain_google_genai import ChatGoogleGenerativeAI\n",
    "\n",
    "load_dotenv()\n"
   ]
  },
  {
   "cell_type": "code",
   "execution_count": 4,
   "metadata": {},
   "outputs": [],
   "source": [
    "import os\n",
    "vertexai.init(project=\"vision-forge-414908\", location=\"us-central1\")\n",
    "os.environ['GOOGLE_API_KEY']=os.getenv(\"GOOGLE_API_KEY\")\n",
    "os.environ['GOOGLE_APPLICATION_CREDENTIALS']=\"cred.json\""
   ]
  },
  {
   "cell_type": "code",
   "execution_count": 5,
   "metadata": {},
   "outputs": [],
   "source": [
    "llm = ChatGoogleGenerativeAI(model=\"gemini-1.5-flash-001\",\n",
    "    system_instruction=''' \n",
    "    You are an insurance claim resolution agent. You will recieve user information, a compacted JSON of a rejected claim, and some relevant context as to how that claim should be filed, or the best practices to file that claim.\n",
    "                             Using this information, you need to generate an output consisting of:\n",
    "                             1) Why the claim was rejected. What portions were incomplete/missing/insufficient etc.\n",
    "                             2) What they should have done instead, and why this is important.\n",
    "                             3) How the claim can now be resolved? Should they file a new claim, should they contact the agency, etc.\n",
    "                             \n",
    "                             Be very elaborate, complete, and utterly professional. \n",
    "                             \n",
    "                             Your output should be in a small HTML script. The only tags you are allowed to use are: <h2>, <p>, <ul>, <li>\n",
    "                             \n",
    "'''\n",
    ")"
   ]
  },
  {
   "cell_type": "code",
   "execution_count": 6,
   "metadata": {},
   "outputs": [
    {
     "data": {
      "text/plain": [
       "AIMessage(content='## Catchy Names for a Colorful Sock Company:\\n\\n**Short & Sweet:**\\n\\n* Socktastic\\n* ColorPop Socks\\n* The Sock Drawer\\n* Happy Feet\\n* Bold Threads\\n* Rainbow Feet\\n* Sock-a-Doodle-Doo\\n* Foot Flair\\n* Sock It To Me\\n\\n**Descriptive:**\\n\\n* Colorful Creations\\n* Bright & Bold Socks\\n* Funky Footwear\\n* The Sock Boutique\\n* The Sock Studio\\n* Statement Socks\\n* Everyday Brights\\n\\n**Playful & Unique:**\\n\\n* Sock Monkey Business\\n* Toe-tally Awesome Socks\\n* The Sock Whisperer\\n* Sock It To The World\\n* Socktacular\\n* Sock-a-licious\\n* Footloose & Fancy-Free\\n* The Sock Alchemist\\n\\n**Consider these factors:**\\n\\n* **Target audience:** Who are you trying to reach?\\n* **Brand personality:** What kind of image do you want to project?\\n* **Competitors:** What are other sock brands called?\\n* **Availability:** Is the name already taken?\\n\\n**Bonus tip:** Use a name generator or online tool to get more ideas.\\n\\nRemember to choose a name that is memorable, easy to pronounce, and relevant to your brand. Good luck!', additional_kwargs={}, response_metadata={'prompt_feedback': {'block_reason': 0, 'safety_ratings': []}, 'finish_reason': 'STOP', 'safety_ratings': [{'category': 'HARM_CATEGORY_SEXUALLY_EXPLICIT', 'probability': 'NEGLIGIBLE', 'blocked': False}, {'category': 'HARM_CATEGORY_HATE_SPEECH', 'probability': 'NEGLIGIBLE', 'blocked': False}, {'category': 'HARM_CATEGORY_HARASSMENT', 'probability': 'NEGLIGIBLE', 'blocked': False}, {'category': 'HARM_CATEGORY_DANGEROUS_CONTENT', 'probability': 'NEGLIGIBLE', 'blocked': False}]}, id='run-c23f26bf-8f70-4e2d-a5cb-d51297ee16b3-0', usage_metadata={'input_tokens': 14, 'output_tokens': 254, 'total_tokens': 268})"
      ]
     },
     "execution_count": 6,
     "metadata": {},
     "output_type": "execute_result"
    }
   ],
   "source": []
  },
  {
   "cell_type": "code",
   "execution_count": 10,
   "metadata": {},
   "outputs": [
    {
     "data": {
      "text/plain": [
       "candidates {\n",
       "  content {\n",
       "    role: \"model\"\n",
       "    parts {\n",
       "      text: \"I\\'m doing well, thank you for asking!  I\\'m ready to hear about your insurance experience. Tell me, what happened? Was it related to a car accident, hospitalization, or something else? \\n\"\n",
       "    }\n",
       "  }\n",
       "  finish_reason: STOP\n",
       "  safety_ratings {\n",
       "    category: HARM_CATEGORY_HATE_SPEECH\n",
       "    probability: NEGLIGIBLE\n",
       "    probability_score: 0.0673828125\n",
       "    severity: HARM_SEVERITY_NEGLIGIBLE\n",
       "    severity_score: 0.0583496094\n",
       "  }\n",
       "  safety_ratings {\n",
       "    category: HARM_CATEGORY_DANGEROUS_CONTENT\n",
       "    probability: NEGLIGIBLE\n",
       "    probability_score: 0.102539063\n",
       "    severity: HARM_SEVERITY_NEGLIGIBLE\n",
       "    severity_score: 0.078125\n",
       "  }\n",
       "  safety_ratings {\n",
       "    category: HARM_CATEGORY_HARASSMENT\n",
       "    probability: NEGLIGIBLE\n",
       "    probability_score: 0.15625\n",
       "    severity: HARM_SEVERITY_NEGLIGIBLE\n",
       "    severity_score: 0.0534667969\n",
       "  }\n",
       "  safety_ratings {\n",
       "    category: HARM_CATEGORY_SEXUALLY_EXPLICIT\n",
       "    probability: NEGLIGIBLE\n",
       "    probability_score: 0.0771484375\n",
       "    severity: HARM_SEVERITY_NEGLIGIBLE\n",
       "    severity_score: 0.0654296875\n",
       "  }\n",
       "}\n",
       "usage_metadata {\n",
       "  prompt_token_count: 106\n",
       "  candidates_token_count: 45\n",
       "  total_token_count: 151\n",
       "}"
      ]
     },
     "execution_count": 10,
     "metadata": {},
     "output_type": "execute_result"
    }
   ],
   "source": [
    "model = GenerativeModel(model_name=\"gemini-1.5-flash-001\",\n",
    "                             system_instruction=\"You have to have a conversation with the user about their insurance-related experience. This may be a hospitalization/car accident etc. Ask relevant questions, ask for necessary clarifications, etc. Once you are done with understanding their experience, the user will send you a list of necessary fields they require to fill out a form. You must return a json object with the values for these fields. Ensure that all your information is accurate, elaborate, and professional. This json object will be your final output.\",\n",
    "                            \n",
    "     )\n",
    "model.generate_content(\"Hello, how are you?\")"
   ]
  },
  {
   "cell_type": "code",
   "execution_count": 7,
   "metadata": {},
   "outputs": [],
   "source": [
    "user_profile = {\n",
    "  \"patient_profile\": {\n",
    "    \"personal_details\": {\n",
    "      \"name\": \"Ranjit Sharma\",\n",
    "      \"date_of_birth\": \"1985-06-15\",\n",
    "      \"gender\": \"Male\",\n",
    "      \"marital_status\": \"Married\",\n",
    "      \"children\": 0,\n",
    "      \"spouse_name\": \"Anita Sharma\",\n",
    "      \"contact_details\": {\n",
    "        \"phone\": \"+91-9876543210\",\n",
    "        \"email\": \"ranjit.sharma@example.com\",\n",
    "        \"address\": {\n",
    "          \"street\": \"15, MG Road\",\n",
    "          \"city\": \"Bengaluru\",\n",
    "          \"state\": \"Karnataka\",\n",
    "          \"postal_code\": \"560001\",\n",
    "          \"country\": \"India\"\n",
    "        }\n",
    "      }\n",
    "    },\n",
    "    \"insurance_details\": {\n",
    "      \"policy_number\": \"HSI123456789\",\n",
    "      \"policy_provider\": \"SBI Health Insurance\",\n",
    "      \"policy_path\": \"../docs/SBI.pdf\",\n",
    "      \"policy_start_date\": \"2020-01-01\",\n",
    "      \"policy_end_date\": \"2025-01-01\",\n",
    "      \"coverage_amount\": 500000,\n",
    "      \"premium_amount\": 12000,\n",
    "      \"premium_frequency\": \"Yearly\"\n",
    "    },\n",
    "    \"medical_history\": {\n",
    "      \"pre_existing_conditions\": [],\n",
    "      \"allergies\": [],\n",
    "      \"current_medications\": [],\n",
    "      \"past_treatments\": []\n",
    "    },\n",
    "    \"emergency_contact\": {\n",
    "      \"name\": \"Anita Sharma\",\n",
    "      \"relationship\": \"Spouse\",\n",
    "      \"phone\": \"+91-9876543211\"\n",
    "    },\n",
    "    \"claim_history\": [\n",
    "      {\n",
    "        \"claim_id\": \"CLAIM98765\",\n",
    "        \"claim_date\": \"2023-04-15\",\n",
    "        \"hospital_name\": \"Apollo Hospital\",\n",
    "        \"treatment\": \"Fracture Treatment\",\n",
    "        \"claim_amount\": 50000,\n",
    "        \"status\": \"Approved\"\n",
    "      }\n",
    "    ]\n",
    "  }\n",
    "}"
   ]
  },
  {
   "cell_type": "code",
   "execution_count": 8,
   "metadata": {},
   "outputs": [],
   "source": [
    "chat_history = [\n",
    "    {\n",
    "        \"role\": \"user\",\n",
    "        \"text\": \"This is my user profile:\\n\"+ str(user_profile)\n",
    "    },\n",
    "    {\n",
    "        \"role\": \"model\",\n",
    "        \"text\": \"Okay, got it. Please ask your questions related to insurance.\"\n",
    "    },\n",
    "    \n",
    "]"
   ]
  },
  {
   "cell_type": "code",
   "execution_count": 9,
   "metadata": {},
   "outputs": [],
   "source": [
    "history = []\n",
    "for message in chat_history:\n",
    "    if message[\"role\"] == \"user\":\n",
    "        history.append(\n",
    "            Content(role=\"user\", parts=[Part.from_text(message[\"text\"])])\n",
    "        )\n",
    "    else:\n",
    "        history.append(\n",
    "            Content(role=\"model\", parts=[Part.from_text(f'{message[\"text\"]}')])\n",
    "        )"
   ]
  },
  {
   "cell_type": "code",
   "execution_count": 19,
   "metadata": {},
   "outputs": [],
   "source": [
    "chat = ChatSession(model=model, history=history)"
   ]
  },
  {
   "cell_type": "code",
   "execution_count": 24,
   "metadata": {},
   "outputs": [],
   "source": [
    "op = chat.send_message(\"She was admitted in an in network hospital called Manipal for 3 days from 28/3/2024 - 31/3/2024. She has diabetes. We had a total of 32 thousand rupees in doctor fees. \")"
   ]
  },
  {
   "cell_type": "code",
   "execution_count": 25,
   "metadata": {},
   "outputs": [
    {
     "data": {
      "text/plain": [
       "\"Thank you for providing that information. It's helpful to know about your wife's diabetes. It's likely that this is a pre-existing condition that will need to be considered when processing your claim.  \\n\\nTo give you a clear idea of your options, I'd need a bit more information. Could you please tell me:\\n\\n* **What type of insurance policy do you have?** Is it a health insurance policy, a hospitalization policy, or something else?\\n* **Does your policy specifically cover dengue?** \\n* **What is your policy's maximum coverage limit for a single hospitalization?** \\n\\nOnce I have this information, I can assess whether your claim is likely to be approved and what documentation you'll need to gather. \\n\""
      ]
     },
     "execution_count": 25,
     "metadata": {},
     "output_type": "execute_result"
    }
   ],
   "source": [
    "op.candidates[0].content.parts[0].text"
   ]
  },
  {
   "cell_type": "code",
   "execution_count": 1,
   "metadata": {},
   "outputs": [
    {
     "name": "stderr",
     "output_type": "stream",
     "text": [
      "c:\\Users\\Aakash Rajaraman\\AppData\\Local\\Programs\\Python\\Python311\\Lib\\site-packages\\tqdm\\auto.py:21: TqdmWarning: IProgress not found. Please update jupyter and ipywidgets. See https://ipywidgets.readthedocs.io/en/stable/user_install.html\n",
      "  from .autonotebook import tqdm as notebook_tqdm\n"
     ]
    }
   ],
   "source": [
    "from langchain_huggingface import HuggingFaceEmbeddings\n",
    "from transformers import AutoModel\n",
    "model_name = \"jinaai/jina-embeddings-v2-base-en\"\n",
    "model_kwargs ={'trust_remote_code': True}\n"
   ]
  },
  {
   "cell_type": "code",
   "execution_count": 2,
   "metadata": {},
   "outputs": [],
   "source": [
    "embeddings_model = HuggingFaceEmbeddings(model_name=\"jinaai/jina-embeddings-v2-small-en\",model_kwargs=model_kwargs)\n"
   ]
  },
  {
   "cell_type": "code",
   "execution_count": 2,
   "metadata": {},
   "outputs": [],
   "source": [
    "from werkzeug.datastructures import ImmutableMultiDict"
   ]
  },
  {
   "cell_type": "code",
   "execution_count": 3,
   "metadata": {},
   "outputs": [],
   "source": [
    "x = ImmutableMultiDict([('policy_number', ''), ('policyholder_name', ''), ('dob', ''), ('contact_number', ''), ('email', ''), ('address', ''), ('claim_amount', ''), ('date_of_treatment', ''), ('hospital_name', ''), ('hospital_address', ''), ('diagnosis', ''), ('treatment_description', ''), ('doctor_name', ''), ('doctor_contact', ''), ('policy_start_date', ''), ('policy_end_date', ''), ('has_previous_claims', 'yes'), ('supporting_documents', '')])"
   ]
  },
  {
   "cell_type": "code",
   "execution_count": 6,
   "metadata": {},
   "outputs": [
    {
     "data": {
      "text/plain": [
       "dict_keys(['policy_number', 'policyholder_name', 'dob', 'contact_number', 'email', 'address', 'claim_amount', 'date_of_treatment', 'hospital_name', 'hospital_address', 'diagnosis', 'treatment_description', 'doctor_name', 'doctor_contact', 'policy_start_date', 'policy_end_date', 'has_previous_claims', 'supporting_documents'])"
      ]
     },
     "execution_count": 6,
     "metadata": {},
     "output_type": "execute_result"
    }
   ],
   "source": [
    "x.keys()"
   ]
  },
  {
   "cell_type": "code",
   "execution_count": 1,
   "metadata": {},
   "outputs": [
    {
     "name": "stderr",
     "output_type": "stream",
     "text": [
      "c:\\Users\\Aakash Rajaraman\\AppData\\Local\\Programs\\Python\\Python311\\Lib\\site-packages\\tqdm\\auto.py:21: TqdmWarning: IProgress not found. Please update jupyter and ipywidgets. See https://ipywidgets.readthedocs.io/en/stable/user_install.html\n",
      "  from .autonotebook import tqdm as notebook_tqdm\n"
     ]
    }
   ],
   "source": [
    "import os\n",
    "import google.generativeai as genai\n",
    "from google.generativeai import caching\n",
    "import datetime\n",
    "import time\n",
    "import dotenv\n",
    "from vertexai.generative_models import Part"
   ]
  },
  {
   "cell_type": "code",
   "execution_count": 2,
   "metadata": {},
   "outputs": [],
   "source": [
    "os.environ['GOOGLE_APPLICATION_CREDENTIALS']=\"cred.json\""
   ]
  },
  {
   "cell_type": "code",
   "execution_count": 9,
   "metadata": {},
   "outputs": [],
   "source": [
    "path = r\"../docs/health_form.pdf\""
   ]
  },
  {
   "cell_type": "code",
   "execution_count": 14,
   "metadata": {},
   "outputs": [],
   "source": [
    "import PyPDF2\n",
    "\n",
    "def extract_text_from_pdf(pdf_path):\n",
    "    with open(pdf_path, 'rb') as pdf_file:\n",
    "        pdf_reader = PyPDF2.PdfReader(pdf_file)\n",
    "        extracted_text = \"\"\n",
    "        for page in pdf_reader.pages:\n",
    "            text = page.extract_text()\n",
    "            if text:\n",
    "                print(\"t\", text)\n",
    "                extracted_text += text\n",
    "        return extracted_text\n"
   ]
  },
  {
   "cell_type": "code",
   "execution_count": 15,
   "metadata": {},
   "outputs": [
    {
     "name": "stdout",
     "output_type": "stream",
     "text": [
      "\n"
     ]
    }
   ],
   "source": [
    "print(extract_text_from_pdf(path))"
   ]
  },
  {
   "cell_type": "code",
   "execution_count": 3,
   "metadata": {},
   "outputs": [],
   "source": [
    "from langchain_community.document_loaders import PyPDFLoader\n",
    "from langchain.text_splitter import RecursiveCharacterTextSplitter\n"
   ]
  },
  {
   "cell_type": "code",
   "execution_count": 4,
   "metadata": {},
   "outputs": [],
   "source": [
    "paths =[\n",
    "    \"../docs/car insurance.pdf\",\n",
    "    \"../docs/united india health insurance.pdf\",\n",
    "    \"../docs/home insurance.pdf\",\n",
    "]"
   ]
  },
  {
   "cell_type": "code",
   "execution_count": 5,
   "metadata": {},
   "outputs": [],
   "source": [
    "docs = [PyPDFLoader(url).load() for url in paths]\n",
    "docs_list = [item for sublist in docs for item in sublist]"
   ]
  },
  {
   "cell_type": "code",
   "execution_count": 6,
   "metadata": {},
   "outputs": [],
   "source": [
    "\n",
    "text_splitter = RecursiveCharacterTextSplitter.from_tiktoken_encoder(\n",
    "    chunk_size=1000, chunk_overlap=50\n",
    ")\n",
    "doc_splits = text_splitter.split_documents(docs_list)"
   ]
  },
  {
   "cell_type": "code",
   "execution_count": 7,
   "metadata": {},
   "outputs": [
    {
     "name": "stdout",
     "output_type": "stream",
     "text": [
      "['id1', 'id2', 'id3', 'id4', 'id5', 'id6', 'id7', 'id8', 'id9', 'id10', 'id11', 'id12', 'id13', 'id14', 'id15', 'id16', 'id17', 'id18', 'id19', 'id20', 'id21', 'id22', 'id23', 'id24', 'id25', 'id26', 'id27', 'id28', 'id29', 'id30', 'id31', 'id32', 'id33', 'id34', 'id35', 'id36', 'id37', 'id38', 'id39', 'id40', 'id41', 'id42', 'id43', 'id44', 'id45', 'id46', 'id47', 'id48', 'id49', 'id50', 'id51', 'id52', 'id53', 'id54', 'id55', 'id56', 'id57', 'id58', 'id59', 'id60', 'id61', 'id62', 'id63', 'id64', 'id65', 'id66', 'id67', 'id68', 'id69', 'id70', 'id71', 'id72', 'id73', 'id74', 'id75', 'id76', 'id77', 'id78', 'id79', 'id80', 'id81', 'id82', 'id83', 'id84', 'id85', 'id86', 'id87', 'id88', 'id89', 'id90', 'id91', 'id92', 'id93', 'id94', 'id95', 'id96', 'id97', 'id98', 'id99', 'id100', 'id101', 'id102', 'id103', 'id104', 'id105', 'id106', 'id107', 'id108', 'id109', 'id110', 'id111', 'id112', 'id113', 'id114', 'id115', 'id116', 'id117', 'id118', 'id119', 'id120', 'id121', 'id122', 'id123', 'id124', 'id125', 'id126', 'id127', 'id128', 'id129', 'id130', 'id131', 'id132', 'id133', 'id134', 'id135']\n"
     ]
    }
   ],
   "source": [
    "ids = [\"id\"+str(i) for i in range(1,len(doc_splits)+1)]\n",
    "print(ids)"
   ]
  },
  {
   "cell_type": "code",
   "execution_count": 8,
   "metadata": {},
   "outputs": [],
   "source": [
    "final_doc_splits = [i.page_content for i in doc_splits]"
   ]
  },
  {
   "cell_type": "code",
   "execution_count": 9,
   "metadata": {},
   "outputs": [
    {
     "name": "stderr",
     "output_type": "stream",
     "text": [
      "c:\\Users\\Aakash Rajaraman\\AppData\\Local\\Programs\\Python\\Python311\\Lib\\site-packages\\onnxruntime\\capi\\_pybind_state.py:26: UserWarning: Please install the 2019 Visual C++ runtime and then try again. If you've installed the runtime in a non-standard location (other than %SystemRoot%\\System32), make sure it can be found by setting the correct path.\n",
      "  warnings.warn(\"Please install the 2019 Visual C++ runtime and then try again. \"\n"
     ]
    },
    {
     "ename": "",
     "evalue": "",
     "output_type": "error",
     "traceback": [
      "\u001b[1;31mThe Kernel crashed while executing code in the current cell or a previous cell. \n",
      "\u001b[1;31mPlease review the code in the cell(s) to identify a possible cause of the failure. \n",
      "\u001b[1;31mClick <a href='https://aka.ms/vscodeJupyterKernelCrash'>here</a> for more info. \n",
      "\u001b[1;31mView Jupyter <a href='command:jupyter.viewOutput'>log</a> for further details."
     ]
    }
   ],
   "source": [
    "import chromadb\n",
    "from langchain_chroma import Chroma\n",
    "persistent_client = chromadb.PersistentClient()\n",
    "collection = persistent_client.get_or_create_collection(\"collection_name\")\n",
    "collection.add(ids=ids, documents=final_doc_splits)\n",
    "\n",
    "vector_store_from_client = Chroma(\n",
    "    client=persistent_client,\n",
    "    collection_name=\"collection_name\",\n",
    "    embedding_function=embeddings_model,\n",
    ")"
   ]
  },
  {
   "cell_type": "code",
   "execution_count": 1,
   "metadata": {},
   "outputs": [],
   "source": [
    "example_claim = {\n",
    "  \"claimId\": \"DHC20240509001\",\n",
    "  \"patientDetails\": {\n",
    "    \"name\": \"Ranjit Sharma\",\n",
    "    \"policyNumber\": \"HSI123456789\",\n",
    "    \"dateOfBirth\": \"1985-06-15\",\n",
    "    \"gender\": \"Male\",\n",
    "    \"maritalStatus\": \"Married\",\n",
    "    \"spouseName\": \"Anita Sharma\",\n",
    "    \"contactNumber\": \"+91-9876543210\",\n",
    "    \"email\": \"ranjit.sharma@example.com\",\n",
    "    \"address\": {\n",
    "      \"street\": \"15, MG Road\",\n",
    "      \"city\": \"Bengaluru\",\n",
    "      \"state\": \"Karnataka\",\n",
    "      \"postalCode\": \"560001\",\n",
    "      \"country\": \"India\"\n",
    "    }\n",
    "  },\n",
    "  \"claimDetails\": {\n",
    "    \"diagnosisCode\": \"A90\",\n",
    "    \"diagnosisDescription\": \"Dengue fever [classical dengue]\",\n",
    "    \"dateOfDiagnosis\": \"2024-05-01\",\n",
    "    \"hospitalName\": \"Apollo Hospital, Bengaluru\",\n",
    "    \"admissionDate\": \"2024-05-02\",\n",
    "    \"dischargeDate\": \"2024-05-07\",\n",
    "    \"totalBillAmount\": 250000.00,\n",
    "    \"claimAmount\": 225000.00,\n",
    "    \"claimDate\": \"2024-05-09\"\n",
    "  },\n",
    "  \"claimStatus\": {\n",
    "    \"status\": \"REJECTED\",\n",
    "    \"rejectionDate\": \"2024-05-15\",\n",
    "    \"rejectionReasons\": [\n",
    "      \"Pre-existing condition not disclosed\",\n",
    "      \"Waiting period for vector-borne diseases not completed\"\n",
    "    ],\n",
    "    \"appealDeadline\": \"2024-06-14\"\n",
    "  },\n",
    "  \"insuranceCompany\": {\n",
    "    \"name\": \"SBI Health Insurance\",\n",
    "    \"contactNumber\": \"+91-1800-22-1111\",\n",
    "    \"email\": \"customer.care@sbigeneral.in\",\n",
    "    \"address\": \"Corporate Office, Fulcrum Building, 9th Floor, A & B Wing, Sahar Road, Andheri (East), Mumbai - 400099\"\n",
    "  },\n",
    "  \"policyDetails\": {\n",
    "    \"policyProvider\": \"SBI Health Insurance\",\n",
    "    \"policyPath\": \"docs/united india health insurance.pdf\",\n",
    "    \"policyStartDate\": \"2020-01-01\",\n",
    "    \"policyEndDate\": \"2025-01-01\",\n",
    "    \"coverageAmount\": 500000,\n",
    "    \"premiumAmount\": 12000,\n",
    "    \"premiumFrequency\": \"Yearly\"\n",
    "  }\n",
    "}\n"
   ]
  },
  {
   "cell_type": "code",
   "execution_count": 2,
   "metadata": {},
   "outputs": [
    {
     "name": "stderr",
     "output_type": "stream",
     "text": [
      "c:\\Users\\Aakash Rajaraman\\AppData\\Local\\Programs\\Python\\Python311\\Lib\\site-packages\\tqdm\\auto.py:21: TqdmWarning: IProgress not found. Please update jupyter and ipywidgets. See https://ipywidgets.readthedocs.io/en/stable/user_install.html\n",
      "  from .autonotebook import tqdm as notebook_tqdm\n",
      "C:\\Users\\Aakash Rajaraman\\AppData\\Local\\Temp\\ipykernel_3988\\225560302.py:1: LangChainDeprecationWarning: As of langchain-core 0.3.0, LangChain uses pydantic v2 internally. The langchain_core.pydantic_v1 module was a compatibility shim for pydantic v1, and should no longer be used. Please update the code to import from Pydantic directly.\n",
      "\n",
      "For example, replace imports like: `from langchain_core.pydantic_v1 import BaseModel`\n",
      "with: `from pydantic import BaseModel`\n",
      "or the v1 compatibility namespace if you are working in a code base that has not been fully upgraded to pydantic 2 yet. \tfrom pydantic.v1 import BaseModel\n",
      "\n",
      "  import claim_resolution\n"
     ]
    }
   ],
   "source": [
    "import claim_resolution\n",
    "state_dict = {\n",
    "    \"type\": \"health\",\n",
    "    \"claim_json\":   example_claim \n",
    "}"
   ]
  },
  {
   "cell_type": "code",
   "execution_count": 3,
   "metadata": {},
   "outputs": [
    {
     "ename": "ValueError",
     "evalue": "('connection should be an instance of lancedb.db.LanceTable, ', \"got <class 'lancedb.db.LanceDBConnection'>\")",
     "output_type": "error",
     "traceback": [
      "\u001b[1;31m---------------------------------------------------------------------------\u001b[0m",
      "\u001b[1;31mValueError\u001b[0m                                Traceback (most recent call last)",
      "Cell \u001b[1;32mIn[3], line 1\u001b[0m\n\u001b[1;32m----> 1\u001b[0m \u001b[43mclaim_resolution\u001b[49m\u001b[38;5;241;43m.\u001b[39;49m\u001b[43mgenerate_resolution\u001b[49m\u001b[43m(\u001b[49m\u001b[43mstate_dict\u001b[49m\u001b[43m)\u001b[49m\n",
      "File \u001b[1;32mc:\\Users\\Aakash Rajaraman\\Desktop\\projects\\google-gen-ai-hackathon\\flask\\claim_resolution.py:168\u001b[0m, in \u001b[0;36mgenerate_resolution\u001b[1;34m(state_dict)\u001b[0m\n\u001b[0;32m    165\u001b[0m \u001b[38;5;28mtype\u001b[39m\u001b[38;5;241m=\u001b[39mstate_dict[\u001b[38;5;124m\"\u001b[39m\u001b[38;5;124mtype\u001b[39m\u001b[38;5;124m\"\u001b[39m]\n\u001b[0;32m    166\u001b[0m claim_json \u001b[38;5;241m=\u001b[39m state_dict[\u001b[38;5;124m\"\u001b[39m\u001b[38;5;124mclaim_json\u001b[39m\u001b[38;5;124m\"\u001b[39m]\n\u001b[1;32m--> 168\u001b[0m retriever \u001b[38;5;241m=\u001b[39m \u001b[43mlanceDBConnection\u001b[49m\u001b[43m(\u001b[49m\u001b[43mstate_dict\u001b[49m\u001b[43m[\u001b[49m\u001b[38;5;124;43m\"\u001b[39;49m\u001b[38;5;124;43mtype\u001b[39;49m\u001b[38;5;124;43m\"\u001b[39;49m\u001b[43m]\u001b[49m\u001b[43m)\u001b[49m\n\u001b[0;32m    169\u001b[0m op \u001b[38;5;241m=\u001b[39m retriever\u001b[38;5;241m.\u001b[39minvoke(question)\n\u001b[0;32m    170\u001b[0m documents \u001b[38;5;241m=\u001b[39m [o\u001b[38;5;241m.\u001b[39mpage_content \u001b[38;5;28;01mfor\u001b[39;00m o \u001b[38;5;129;01min\u001b[39;00m op]\n",
      "File \u001b[1;32mc:\\Users\\Aakash Rajaraman\\Desktop\\projects\\google-gen-ai-hackathon\\flask\\claim_resolution.py:142\u001b[0m, in \u001b[0;36mlanceDBConnection\u001b[1;34m(request_type, embed)\u001b[0m\n\u001b[0;32m    135\u001b[0m db \u001b[38;5;241m=\u001b[39m lancedb\u001b[38;5;241m.\u001b[39mconnect(\u001b[38;5;124m\"\u001b[39m\u001b[38;5;124m/tmp/lancedb\u001b[39m\u001b[38;5;124m\"\u001b[39m)\n\u001b[0;32m    136\u001b[0m table \u001b[38;5;241m=\u001b[39m db\u001b[38;5;241m.\u001b[39mcreate_table(\n\u001b[0;32m    137\u001b[0m     \u001b[38;5;124m\"\u001b[39m\u001b[38;5;124mcrag_demo\u001b[39m\u001b[38;5;124m\"\u001b[39m,\n\u001b[0;32m    138\u001b[0m     data\u001b[38;5;241m=\u001b[39m[{\u001b[38;5;124m\"\u001b[39m\u001b[38;5;124mvector\u001b[39m\u001b[38;5;124m\"\u001b[39m: embed\u001b[38;5;241m.\u001b[39membed_query(\u001b[38;5;124m\"\u001b[39m\u001b[38;5;124mHello World\u001b[39m\u001b[38;5;124m\"\u001b[39m), \u001b[38;5;124m\"\u001b[39m\u001b[38;5;124mtext\u001b[39m\u001b[38;5;124m\"\u001b[39m: \u001b[38;5;124m\"\u001b[39m\u001b[38;5;124mHello World\u001b[39m\u001b[38;5;124m\"\u001b[39m}],\n\u001b[0;32m    139\u001b[0m     mode\u001b[38;5;241m=\u001b[39m\u001b[38;5;124m\"\u001b[39m\u001b[38;5;124moverwrite\u001b[39m\u001b[38;5;124m\"\u001b[39m,\n\u001b[0;32m    140\u001b[0m )\n\u001b[1;32m--> 142\u001b[0m vectorstore \u001b[38;5;241m=\u001b[39m \u001b[43mLanceDB\u001b[49m\u001b[38;5;241;43m.\u001b[39;49m\u001b[43mfrom_documents\u001b[49m\u001b[43m(\u001b[49m\n\u001b[0;32m    143\u001b[0m \u001b[43m    \u001b[49m\u001b[43mdocuments\u001b[49m\u001b[38;5;241;43m=\u001b[39;49m\u001b[43mprepare_docs\u001b[49m\u001b[43m(\u001b[49m\u001b[43mrequest_type\u001b[49m\u001b[43m)\u001b[49m\u001b[43m,\u001b[49m\n\u001b[0;32m    144\u001b[0m \u001b[43m    \u001b[49m\u001b[43membedding\u001b[49m\u001b[38;5;241;43m=\u001b[39;49m\u001b[43membeddings_model\u001b[49m\u001b[43m,\u001b[49m\n\u001b[0;32m    145\u001b[0m \u001b[43m    \u001b[49m\u001b[43mconnection\u001b[49m\u001b[38;5;241;43m=\u001b[39;49m\u001b[43mdb\u001b[49m\u001b[43m,\u001b[49m\n\u001b[0;32m    146\u001b[0m \u001b[43m\u001b[49m\u001b[43m)\u001b[49m\n\u001b[0;32m    147\u001b[0m retriever \u001b[38;5;241m=\u001b[39m vectorstore\u001b[38;5;241m.\u001b[39mas_retriever()\n\u001b[0;32m    149\u001b[0m \u001b[38;5;28;01mreturn\u001b[39;00m retriever\n",
      "File \u001b[1;32mc:\\Users\\Aakash Rajaraman\\AppData\\Local\\Programs\\Python\\Python311\\Lib\\site-packages\\langchain_core\\vectorstores\\base.py:836\u001b[0m, in \u001b[0;36mVectorStore.from_documents\u001b[1;34m(cls, documents, embedding, **kwargs)\u001b[0m\n\u001b[0;32m    834\u001b[0m texts \u001b[38;5;241m=\u001b[39m [d\u001b[38;5;241m.\u001b[39mpage_content \u001b[38;5;28;01mfor\u001b[39;00m d \u001b[38;5;129;01min\u001b[39;00m documents]\n\u001b[0;32m    835\u001b[0m metadatas \u001b[38;5;241m=\u001b[39m [d\u001b[38;5;241m.\u001b[39mmetadata \u001b[38;5;28;01mfor\u001b[39;00m d \u001b[38;5;129;01min\u001b[39;00m documents]\n\u001b[1;32m--> 836\u001b[0m \u001b[38;5;28;01mreturn\u001b[39;00m \u001b[38;5;28;43mcls\u001b[39;49m\u001b[38;5;241;43m.\u001b[39;49m\u001b[43mfrom_texts\u001b[49m\u001b[43m(\u001b[49m\u001b[43mtexts\u001b[49m\u001b[43m,\u001b[49m\u001b[43m \u001b[49m\u001b[43membedding\u001b[49m\u001b[43m,\u001b[49m\u001b[43m \u001b[49m\u001b[43mmetadatas\u001b[49m\u001b[38;5;241;43m=\u001b[39;49m\u001b[43mmetadatas\u001b[49m\u001b[43m,\u001b[49m\u001b[43m \u001b[49m\u001b[38;5;241;43m*\u001b[39;49m\u001b[38;5;241;43m*\u001b[39;49m\u001b[43mkwargs\u001b[49m\u001b[43m)\u001b[49m\n",
      "File \u001b[1;32mc:\\Users\\Aakash Rajaraman\\AppData\\Local\\Programs\\Python\\Python311\\Lib\\site-packages\\langchain_community\\vectorstores\\lancedb.py:157\u001b[0m, in \u001b[0;36mLanceDB.from_texts\u001b[1;34m(cls, texts, embedding, metadatas, connection, vector_key, id_key, text_key, **kwargs)\u001b[0m\n\u001b[0;32m    145\u001b[0m \u001b[38;5;129m@classmethod\u001b[39m\n\u001b[0;32m    146\u001b[0m \u001b[38;5;28;01mdef\u001b[39;00m \u001b[38;5;21mfrom_texts\u001b[39m(\n\u001b[0;32m    147\u001b[0m     \u001b[38;5;28mcls\u001b[39m,\n\u001b[1;32m   (...)\u001b[0m\n\u001b[0;32m    155\u001b[0m     \u001b[38;5;241m*\u001b[39m\u001b[38;5;241m*\u001b[39mkwargs: Any,\n\u001b[0;32m    156\u001b[0m ) \u001b[38;5;241m-\u001b[39m\u001b[38;5;241m>\u001b[39m LanceDB:\n\u001b[1;32m--> 157\u001b[0m     instance \u001b[38;5;241m=\u001b[39m \u001b[43mLanceDB\u001b[49m\u001b[43m(\u001b[49m\n\u001b[0;32m    158\u001b[0m \u001b[43m        \u001b[49m\u001b[43mconnection\u001b[49m\u001b[43m,\u001b[49m\n\u001b[0;32m    159\u001b[0m \u001b[43m        \u001b[49m\u001b[43membedding\u001b[49m\u001b[43m,\u001b[49m\n\u001b[0;32m    160\u001b[0m \u001b[43m        \u001b[49m\u001b[43mvector_key\u001b[49m\u001b[43m,\u001b[49m\n\u001b[0;32m    161\u001b[0m \u001b[43m        \u001b[49m\u001b[43mid_key\u001b[49m\u001b[43m,\u001b[49m\n\u001b[0;32m    162\u001b[0m \u001b[43m        \u001b[49m\u001b[43mtext_key\u001b[49m\u001b[43m,\u001b[49m\n\u001b[0;32m    163\u001b[0m \u001b[43m    \u001b[49m\u001b[43m)\u001b[49m\n\u001b[0;32m    164\u001b[0m     instance\u001b[38;5;241m.\u001b[39madd_texts(texts, metadatas\u001b[38;5;241m=\u001b[39mmetadatas, \u001b[38;5;241m*\u001b[39m\u001b[38;5;241m*\u001b[39mkwargs)\n\u001b[0;32m    166\u001b[0m     \u001b[38;5;28;01mreturn\u001b[39;00m instance\n",
      "File \u001b[1;32mc:\\Users\\Aakash Rajaraman\\AppData\\Local\\Programs\\Python\\Python311\\Lib\\site-packages\\langchain_community\\vectorstores\\lancedb.py:67\u001b[0m, in \u001b[0;36mLanceDB.__init__\u001b[1;34m(self, connection, embedding, vector_key, id_key, text_key, table_name)\u001b[0m\n\u001b[0;32m     65\u001b[0m \u001b[38;5;28;01mif\u001b[39;00m connection \u001b[38;5;129;01mis\u001b[39;00m \u001b[38;5;129;01mnot\u001b[39;00m \u001b[38;5;28;01mNone\u001b[39;00m:\n\u001b[0;32m     66\u001b[0m     \u001b[38;5;28;01mif\u001b[39;00m \u001b[38;5;129;01mnot\u001b[39;00m \u001b[38;5;28misinstance\u001b[39m(connection, lancedb\u001b[38;5;241m.\u001b[39mdb\u001b[38;5;241m.\u001b[39mLanceTable):\n\u001b[1;32m---> 67\u001b[0m         \u001b[38;5;28;01mraise\u001b[39;00m \u001b[38;5;167;01mValueError\u001b[39;00m(\n\u001b[0;32m     68\u001b[0m             \u001b[38;5;124m\"\u001b[39m\u001b[38;5;124mconnection should be an instance of lancedb.db.LanceTable, \u001b[39m\u001b[38;5;124m\"\u001b[39m,\n\u001b[0;32m     69\u001b[0m             \u001b[38;5;124mf\u001b[39m\u001b[38;5;124m\"\u001b[39m\u001b[38;5;124mgot \u001b[39m\u001b[38;5;132;01m{\u001b[39;00m\u001b[38;5;28mtype\u001b[39m(connection)\u001b[38;5;132;01m}\u001b[39;00m\u001b[38;5;124m\"\u001b[39m,\n\u001b[0;32m     70\u001b[0m         )\n\u001b[0;32m     71\u001b[0m     \u001b[38;5;28mself\u001b[39m\u001b[38;5;241m.\u001b[39m_connection \u001b[38;5;241m=\u001b[39m connection\n\u001b[0;32m     72\u001b[0m \u001b[38;5;28;01melse\u001b[39;00m:\n",
      "\u001b[1;31mValueError\u001b[0m: ('connection should be an instance of lancedb.db.LanceTable, ', \"got <class 'lancedb.db.LanceDBConnection'>\")"
     ]
    }
   ],
   "source": [
    "claim_resolution.generate_resolution(state_dict)"
   ]
  },
  {
   "cell_type": "code",
   "execution_count": null,
   "metadata": {},
   "outputs": [],
   "source": []
  }
 ],
 "metadata": {
  "kernelspec": {
   "display_name": "Python 3",
   "language": "python",
   "name": "python3"
  },
  "language_info": {
   "codemirror_mode": {
    "name": "ipython",
    "version": 3
   },
   "file_extension": ".py",
   "mimetype": "text/x-python",
   "name": "python",
   "nbconvert_exporter": "python",
   "pygments_lexer": "ipython3",
   "version": "3.11.9"
  }
 },
 "nbformat": 4,
 "nbformat_minor": 2
}
